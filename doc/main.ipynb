{
 "cells": [
  {
   "cell_type": "markdown",
   "metadata": {},
   "source": [
    "# DOG OR CAT?\n",
    "## Project 5 - Group7 \n",
    "\n",
    "###  Group Member: Fan Gong, Qihang Li, Chenyun Wu, Yingbin Jiang, Hongjie Ren\n",
    "\n",
    "![homepage](../figs/woof_meow.jpg)"
   ]
  },
  {
   "cell_type": "markdown",
   "metadata": {},
   "source": [
    "### Cifar 10 Model\n",
    "\n",
    "\n"
   ]
  },
  {
   "cell_type": "markdown",
   "metadata": {},
   "source": [
    "### VGG - 16 Model\n",
    "\n",
    "\n",
    "\n",
    "To reproduce the result for vgg model:\n",
    "\n",
    "For the vggmain file in lib folder, there are two functions: one is `train` the other is `evaluation`\n",
    "```{python}\n",
    "import vggmain\n",
    "```\n",
    "The train function first call the function `get_files` function and `get_batch` function to get train data in the batch size of 64. Then feed data into the pre-defined `VGG` network with pre-trained weights except for the last layer by applying `load_with_skip`. Then monitor the tensorboard for key metrics such as loss and accuracy. \n",
    "\n",
    "\n",
    "```{python}\n",
    "train()\n",
    "```\n",
    "\n",
    "\n",
    "After training the data, `evaluation` loads the weights into the CPU and feed test images to the network. Each image will generate a probability of dogs. \n",
    "\n",
    "```{python}\n",
    "evaluation()\n",
    "```"
   ]
  },
  {
   "cell_type": "code",
   "execution_count": 3,
   "metadata": {},
   "outputs": [
    {
     "data": {
      "text/plain": [
       "'/Users/gongfan/Documents/GitHub/Fall2017-project5-grp7/doc'"
      ]
     },
     "execution_count": 3,
     "metadata": {},
     "output_type": "execute_result"
    }
   ],
   "source": [
    "import os\n",
    "os.getcwd()"
   ]
  },
  {
   "cell_type": "code",
   "execution_count": null,
   "metadata": {
    "collapsed": true
   },
   "outputs": [],
   "source": []
  }
 ],
 "metadata": {
  "kernelspec": {
   "display_name": "Python 3",
   "language": "python",
   "name": "python3"
  },
  "language_info": {
   "codemirror_mode": {
    "name": "ipython",
    "version": 3
   },
   "file_extension": ".py",
   "mimetype": "text/x-python",
   "name": "python",
   "nbconvert_exporter": "python",
   "pygments_lexer": "ipython3",
   "version": "3.6.0"
  }
 },
 "nbformat": 4,
 "nbformat_minor": 2
}
