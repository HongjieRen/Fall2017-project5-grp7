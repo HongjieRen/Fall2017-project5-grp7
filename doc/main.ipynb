{
 "cells": [
  {
   "cell_type": "markdown",
   "metadata": {},
   "source": [
    "# DOG OR CAT?\n",
    "## Project 5 - Group7 \n",
    "\n",
    "###  Group Member: Fan Gong, Qihang Li, Chenyun Wu, Yingbin Jiang, Hongjie Ren"
   ]
  },
  {
   "cell_type": "markdown",
   "metadata": {},
   "source": [
    "## Introduction \n",
    "\n",
    "In this project, we use mutiple neural network model to do image recognition. \n",
    "\n",
    "Three models--Cifar 10, VGG-16 and Inception-V3 are implemented to classifiy 12500 cat/dog images. The prediction performance of three model has ranked of top 65%, top 6.6%, top 5.3% in the Kaggle competition respectively. Based on that, we also compare the models and get some interesting findings of the results.\n",
    "\n",
    "Here is our best ranking in Kaggle :\n",
    "![b1](../figs/best1.jpg)\n",
    "![b2](../figs/best2.jpg)"
   ]
  },
  {
   "cell_type": "markdown",
   "metadata": {},
   "source": [
    "## Cifar 10 Model \n",
    "\n",
    "Here is the link for the Cifar 10 model folder: https://github.com/TZstatsADS/Fall2017-project5-grp7/tree/master/lib/CIFAR10 \n",
    "\n",
    "There are three parts inside cifar10.py\n",
    "1. Input data part, this part includes two functions: `get_files()` and `get_batch()`. These two functions are used to input files and package image to batch.\n",
    "2. Model part, this part defined the inference function, loss function, optimization function and evaluation function totally four functions to run the convolutional neural network model.\n",
    "3. Training part, this part input the data into model and created tensorflow session to display the training results. Please change the \"train_dir\" and \"logs_train_dir\" to the corresponding directory before running.\n",
    "\n",
    "#### Training file\n",
    "To start training the model, simply run the following code:\n",
    "```{python}\n",
    "run_training()\n",
    "```\n",
    "#### Evaluate model\n",
    "Since we have all the parameters now, then we can evaluate our results, the codes are following: \n",
    "```{python}\n",
    "cifar10_results=[]\n",
    "\n",
    "for i in range(12500):  \n",
    "    print('\\n-----------------------')\n",
    "    print(i)\n",
    "    cifar10_results.append(evaluate_one_image(i))\n",
    "```\n",
    "    \n",
    "The result will contains the probability of a image being of a cat and of a dog respectively\n"
   ]
  },
  {
   "cell_type": "markdown",
   "metadata": {},
   "source": [
    "## VGG - 16 Model\n",
    "\n",
    "Here is the link for VGG-16 model's folder : https://github.com/TZstatsADS/Fall2017-project5-grp7/tree/master/lib/VGG-16\n",
    "\n",
    "Here is the link for Model parameters : https://drive.google.com/drive/u/1/folders/1lXyrIWgGs2A6Zd5jWvUUBHrlyjE9KW0a (Need to be put on the same folder with other py files)\n",
    "\n",
    "To reproduce the result for vgg model: \n",
    "\n",
    "For the vggmain file in lib folder, there are two functions: one is `train()` the other is `evaluation()`\n",
    "```{python}\n",
    "import vggmain\n",
    "```\n",
    "\n",
    "#### Training \n",
    "The train function first call the function `get_files` function and `get_batch` function to get train data in the batch size of 64. Then feed data into the pre-defined `VGG` network with pre-trained weights except for the last layer by applying `load_with_skip`. Then monitor the tensorboard for key metrics such as loss and accuracy. \n",
    "\n",
    "```{python}\n",
    "train()\n",
    "```\n",
    "\n",
    "#### Evaluation \n",
    "After training the data, `evaluation` loads the weights into the CPU and feed test images to the network. Each image will generate a probability of dogs. \n",
    "\n",
    "```{python}\n",
    "evaluation()\n",
    "```"
   ]
  },
  {
   "cell_type": "markdown",
   "metadata": {},
   "source": [
    "## Inception-v3 Model\n",
    "\n",
    "Here is the link for Inception-v3 model's folder : https://github.com/TZstatsADS/Fall2017-project5-grp7/tree/master/lib/Inception_Model\n",
    "\n",
    "#### Training\n",
    "1. First Split Training data set into Train& Validate, the output will be list of path\n",
    "```{python}\n",
    "transfer_learning.create_image_lists()\n",
    "```\n",
    "\n",
    "2. Download Inception Model (automatically download)\n",
    "```{python}\n",
    "transfer_learning.create_model()\n",
    "```\n",
    "\n",
    "3. Compute bottleneck for the training data\n",
    "```{python}\n",
    "transfer_learning.cache_bottlenecks()\n",
    "```\n",
    "\n",
    "4. Adding the trainable last layer to the model\n",
    "```{python}\n",
    "inception_main.make_final_layers()\n",
    "```\n",
    "\n",
    "5. Adding accuracy function to the model\n",
    "```{python}\n",
    "inception_main.compute_accuracy()\n",
    "```\n",
    "\n",
    "6. Do training of last layer, it will print the training accuracy\n",
    "```{python}\n",
    "inception_main.execute_train_step()\n",
    "```\n",
    "\n",
    "#### Evaluation\n",
    "\n",
    "1. Evaluate validate dataset to get validate accuracy\n",
    "```{python}\n",
    "inception_main.evaluate_images()\n",
    "```\n",
    "\n",
    "2. Doing test of test data set, first create path list of all test data, and transform to byte like image, them perform\n",
    "\n",
    "```{python}\n",
    "transfer_learning.create_image_lists()\n",
    "transfer_learning.get_testing_data()\n",
    "inception_main.get_prob()\n",
    "```"
   ]
  },
  {
   "cell_type": "code",
   "execution_count": null,
   "metadata": {
    "collapsed": true
   },
   "outputs": [],
   "source": []
  }
 ],
 "metadata": {
  "kernelspec": {
   "display_name": "Python 3",
   "language": "python",
   "name": "python3"
  },
  "language_info": {
   "codemirror_mode": {
    "name": "ipython",
    "version": 3
   },
   "file_extension": ".py",
   "mimetype": "text/x-python",
   "name": "python",
   "nbconvert_exporter": "python",
   "pygments_lexer": "ipython3",
   "version": "3.6.0"
  }
 },
 "nbformat": 4,
 "nbformat_minor": 2
}
