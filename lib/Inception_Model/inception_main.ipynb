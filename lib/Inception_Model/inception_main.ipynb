{
 "cells": [
  {
   "cell_type": "code",
   "execution_count": null,
   "metadata": {},
   "outputs": [],
   "source": [
    "import tensorflow as tf\n",
    "import numpy as np\n",
    "import os\n",
    "import os.path\n",
    "import transfer_learning  # This module contains large amounts of pre-written code"
   ]
  },
  {
   "cell_type": "code",
   "execution_count": null,
   "metadata": {},
   "outputs": [],
   "source": [
    "# Ensure target log dir exists\n",
    "INCEPTION_LOG_DIR = './tmp/inception_v3_log'\n",
    "if not os.path.exists(INCEPTION_LOG_DIR):\n",
    "    os.makedirs(INCEPTION_LOG_DIR)"
   ]
  },
  {
   "cell_type": "code",
   "execution_count": null,
   "metadata": {
    "scrolled": true
   },
   "outputs": [],
   "source": [
    "# Ensure set Right dir, it will randomly select 10% of the trainning image as validate images\n",
    "training_images, testing_images, label_maps = transfer_learning.create_image_lists('../data/train', testing_percentage=10, max_number_images=25005)"
   ]
  },
  {
   "cell_type": "code",
   "execution_count": null,
   "metadata": {},
   "outputs": [],
   "source": [
    "# create model, save at './model'\n",
    "graph, bottleneck, resized_input, softmax = transfer_learning.create_model()"
   ]
  },
  {
   "cell_type": "code",
   "execution_count": null,
   "metadata": {},
   "outputs": [],
   "source": [
    "# compute single bottleneck of a image\n",
    "def compute_bottleneck(session, image_data):\n",
    "    \n",
    "    bottleneck_output= session.run((bottleneck),{'DecodeJpeg/contents:0': image_data})\n",
    "    \n",
    "    return(bottleneck_output)"
   ]
  },
  {
   "cell_type": "code",
   "execution_count": null,
   "metadata": {},
   "outputs": [],
   "source": [
    "#compute all the bottlenecks from training image list and save at'./data/bottleneck'\n",
    "with graph.as_default():\n",
    "    with tf.Session() as session:\n",
    "        transfer_learning.cache_bottlenecks(compute_bottleneck, session, training_images)"
   ]
  },
  {
   "cell_type": "code",
   "execution_count": null,
   "metadata": {},
   "outputs": [],
   "source": [
    "# make last layer\n",
    "def make_final_layers(bottleneck_tensor, num_classes):\n",
    "\n",
    "    bottleneck_tensor_size = int(bottleneck.shape[1])\n",
    "    \n",
    "    with tf.variable_scope('input'):\n",
    "        bottleneck_input = tf.placeholder_with_default(\n",
    "            bottleneck_tensor,\n",
    "            [None, bottleneck_tensor_size],\n",
    "            'bottleneck_input')\n",
    "        \n",
    "        label_input = tf.placeholder(tf.int64, [None], name='label_input')\n",
    "    \n",
    "    logits = tf.layers.dense(bottleneck_input, num_classes)\n",
    "    loss = tf.losses.sparse_softmax_cross_entropy(labels=label_input, logits=logits)\n",
    "    loss_summary = tf.summary.scalar('cross_entropy', loss)\n",
    "    optimizer = tf.train.GradientDescentOptimizer(0.1)\n",
    "    train_step = optimizer.minimize(loss)\n",
    "    pred_prob = tf.nn.softmax(logits)\n",
    "\n",
    "    \n",
    "    return bottleneck_input, label_input, logits, train_step, loss_summary , pred_prob"
   ]
  },
  {
   "cell_type": "code",
   "execution_count": null,
   "metadata": {},
   "outputs": [],
   "source": [
    "#compute accuracy of input image_list\n",
    "def compute_accuracy(labels, logits):\n",
    "\n",
    "    prediction = tf.argmax(logits,1, name='pred_class')\n",
    "    #true_label = tf.argmax(labels, name='true_class')\n",
    "    accuracy = tf.reduce_mean(tf.cast(tf.equal(prediction, labels), tf.float32))\n",
    "    accuracy_summary=tf.summary.scalar('accuracy', accuracy)\n",
    "\n",
    "    return prediction, accuracy, accuracy_summary"
   ]
  },
  {
   "cell_type": "code",
   "execution_count": null,
   "metadata": {},
   "outputs": [],
   "source": [
    "# adding layer to graph\n",
    "\n",
    "with graph.as_default():\n",
    "    bottleneck_input, label_input, logits, train_step, loss_summary , pred_prob = make_final_layers(bottleneck, len(label_maps))\n",
    "    prediction, accuracy, accuracy_summary = compute_accuracy(label_input, logits)\n",
    "    summary_op = tf.summary.merge([loss_summary, accuracy_summary])\n",
    "    "
   ]
  },
  {
   "cell_type": "code",
   "execution_count": null,
   "metadata": {},
   "outputs": [],
   "source": [
    "def execute_train_step(session: tf.Session, summary_writer: tf.summary.FileWriter, current_step: int):\n",
    "\n",
    "    _, ac, summary = session.run((train_step, accuracy, summary_op),\n",
    "                       feed_dict={bottleneck_input: training_data_set['bottlenecks'],\n",
    "                                  label_input: training_data_set['labels']\n",
    "                                 })\n",
    "    \n",
    "    summary_writer.add_summary(summary, current_step)\n",
    "    \n",
    "    if current_step % 10 == 0:\n",
    "        print('Accuracy at step {0} is {1}'.format(current_step, ac))\n",
    "        "
   ]
  },
  {
   "cell_type": "code",
   "execution_count": null,
   "metadata": {},
   "outputs": [],
   "source": [
    "# evaluate validate data set\n",
    "def evaluate_images(session: tf.Session, images_jpeg_data: [bytes], labels: [int]):\n",
    "\n",
    "    correct = []\n",
    "    pred=[]\n",
    "    \n",
    "    for label, jpeg in zip(labels, images_jpeg_data):\n",
    "        image_data = session.run(decoded_image, feed_dict={jpeg_data: jpeg})\n",
    "        pd, ac = session.run((prediction,accuracy), feed_dict={resized_input: image_data, label_input: [label]})\n",
    "        correct.append(ac)\n",
    "        pred.append(pd)\n",
    "    \n",
    "    return np.mean(correct),pred"
   ]
  },
  {
   "cell_type": "code",
   "execution_count": null,
   "metadata": {},
   "outputs": [],
   "source": [
    "# transform image path to byte like image\n",
    "training_data_set = transfer_learning.create_training_dataset(training_images)"
   ]
  },
  {
   "cell_type": "code",
   "execution_count": null,
   "metadata": {},
   "outputs": [],
   "source": [
    "with graph.as_default():\n",
    "    jpeg_data, decoded_image = transfer_learning.make_jpeg_decoding()"
   ]
  },
  {
   "cell_type": "code",
   "execution_count": null,
   "metadata": {},
   "outputs": [],
   "source": [
    "# get class probability of input image without labels\n",
    "def get_prob(session: tf.Session, images_jpeg_data: [bytes]):\n",
    "\n",
    "    pred = np.array([],dtype=np.float32).reshape(0,2)\n",
    "    #name=np.array([],dtype=np.str).reshape(0,1)\n",
    "    \n",
    "    for jpeg in images_jpeg_data:\n",
    "        image_data = session.run(decoded_image, feed_dict={jpeg_data: jpeg})\n",
    "        pd = session.run(pred_prob, feed_dict={resized_input: image_data})\n",
    "        pred = np.concatenate((pred,pd), axis = 0)\n",
    "        #name = np.concatenate\n",
    "    \n",
    "    return pred"
   ]
  },
  {
   "cell_type": "code",
   "execution_count": null,
   "metadata": {},
   "outputs": [],
   "source": [
    "#Train & Validate & Do test\n",
    "\n",
    "with graph.as_default():\n",
    "    with tf.Session() as session:\n",
    "        print('------------- Starting training ----------------')\n",
    "        \n",
    "        session.run(tf.global_variables_initializer())\n",
    "        \n",
    "        summary_writer = tf.summary.FileWriter(os.path.join(INCEPTION_LOG_DIR, 'retrained'), graph)\n",
    "        \n",
    "        for i in range(100):\n",
    "            execute_train_step(session, summary_writer, i)\n",
    "        summary_writer.close()  \n",
    "        \n",
    "        print('------------- Training done! -------------------')\n",
    "        print('---------- Loading testing data ----------------')\n",
    "        \n",
    "        tlabels, timages = transfer_learning.get_testing_data(testing_images)\n",
    "        \n",
    "        \n",
    "        print('----------- Evaluating on Validating --------------')\n",
    "        \n",
    "        validate_result = evaluate_images(session, timages, tlabels)\n",
    "        eval_accuracy = validate_result[0]\n",
    "        valid_pred = validate_result[1]\n",
    "        \n",
    "        print('Evaluation accuracy was: {0}'.format(eval_accuracy))\n",
    "        \n",
    "        \n",
    "        print('----------- Doing Testing--------------')  \n",
    "        testing, _, _ = transfer_learning.create_image_lists('../data/test', testing_percentage=0, max_number_images=13000)\n",
    "        _, testimages = transfer_learning.get_testing_data(testing)\n",
    "        \n",
    "        test_prob_sess= get_prob(session, testimages)\n",
    "        \n",
    "        np.save('test_prob_sess.npy', test_prob_sess, allow_pickle=False) \n",
    "        "
   ]
  },
  {
   "cell_type": "code",
   "execution_count": null,
   "metadata": {},
   "outputs": [],
   "source": [
    "import re\n",
    "import csv\n",
    "import pandas as pd\n",
    "\n",
    "names = [re.search('[0-9]+',i[1]).group() for i in testing]\n",
    "result_sess = np.column_stack((names,test_prob_sess))\n",
    "colnames = ['id','cat','dog']\n",
    "result_sess_pd = pd.DataFrame(result_sess, index=names, columns=colnames)\n",
    "result_sess_pd.to_csv('inception_full_sess_result.csv',index=False,header=True)\n"
   ]
  }
 ],
 "metadata": {
  "kernelspec": {
   "display_name": "Python 3",
   "language": "python",
   "name": "python3"
  },
  "language_info": {
   "codemirror_mode": {
    "name": "ipython",
    "version": 3
   },
   "file_extension": ".py",
   "mimetype": "text/x-python",
   "name": "python",
   "nbconvert_exporter": "python",
   "pygments_lexer": "ipython3",
   "version": "3.6.2"
  }
 },
 "nbformat": 4,
 "nbformat_minor": 1
}
